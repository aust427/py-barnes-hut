{
 "cells": [
  {
   "cell_type": "code",
   "execution_count": 2,
   "id": "0e1212bb",
   "metadata": {},
   "outputs": [],
   "source": [
    "%matplotlib notebook"
   ]
  },
  {
   "cell_type": "code",
   "execution_count": 3,
   "id": "02e18937",
   "metadata": {},
   "outputs": [],
   "source": [
    "import numpy as np\n",
    "import matplotlib.pyplot as plt\n",
    "import sys\n",
    "import os \n",
    "from tqdm import tqdm\n",
    "\n",
    "import multiprocessing as mp\n",
    "\n",
    "import time \n",
    "from natsort import natsorted\n",
    "import moviepy.video.io.ImageSequenceClip\n",
    "\n",
    "import copy \n",
    "\n",
    "import pickle as pkl"
   ]
  },
  {
   "cell_type": "code",
   "execution_count": 4,
   "id": "1bfd41fb",
   "metadata": {},
   "outputs": [],
   "source": [
    "sys.setrecursionlimit(10000) "
   ]
  },
  {
   "cell_type": "code",
   "execution_count": 5,
   "id": "33cb3816",
   "metadata": {},
   "outputs": [],
   "source": [
    "from simulation import *\n",
    "from visualizer import renderParticles, drawTree, plotter"
   ]
  },
  {
   "cell_type": "code",
   "execution_count": 6,
   "id": "6dc945f1",
   "metadata": {},
   "outputs": [
    {
     "data": {
      "text/plain": [
       "<matplotlib.pyplot._IoffContext at 0x11c268a60>"
      ]
     },
     "execution_count": 6,
     "metadata": {},
     "output_type": "execute_result"
    }
   ],
   "source": [
    "plt.ioff()"
   ]
  },
  {
   "cell_type": "code",
   "execution_count": 32,
   "id": "8e579711",
   "metadata": {},
   "outputs": [],
   "source": [
    "def f_multipole(p, node, L, theta=0.5, epsilon=1e-3, m_scale=1e-3):  \n",
    "    # check to see if particle is looking at itself,return 0 \n",
    "    if node.mass is not None and sum((node.com - p)**2)**0.5 < 1e-10:\n",
    "        return np.zeros(2) \n",
    "    \n",
    "    # if a leaf node and has a particle, directly solve for gravity \n",
    "    if isinstance(node, leaf) and node.mass is not None:\n",
    "        plotter(ax, node, 'lime', alpha=1)\n",
    "        return np.zeros(2)\n",
    "    # if a leaf node and doesn't have a particle, return 0\n",
    "    elif isinstance(node, leaf) and node.mass is None:\n",
    "        return np.zeros(2)\n",
    "    \n",
    "    # if a quadtree that satisfies multipole condition, solve for gravity\n",
    "    if isinstance(node, QuadTree) and node.length[0] / sum((node.com - p)**2)**0.5 <= theta: \n",
    "        plotter(ax, node, 'lime', alpha=1)\n",
    "        return np.zeros(2)\n",
    "\n",
    "        # return solve_acc(p, node, L, epsilon=epsilon, m_scale=m_scale)\n",
    "    # else if quadtree and hasn't satisfied, recursively search the tree's children \n",
    "    elif isinstance(node, QuadTree) and node.length[0] / sum((node.com - p)**2)**0.5 > theta: \n",
    "        return sum(np.array([f_multipole(p, ch, L, theta=theta, epsilon=epsilon, m_scale=m_scale) for ch in [node.ll, node.ur, node.lr, node.ul]]))"
   ]
  },
  {
   "cell_type": "code",
   "execution_count": 88,
   "id": "dcc11933",
   "metadata": {
    "scrolled": false
   },
   "outputs": [],
   "source": [
    "L = 1\n",
    "n = 1000\n",
    "# particles = np.random.random((n, 4)) * L - L/2\n",
    "particles[0, :2] = 0.0\n",
    "# particles1 = np.random.normal(0.95, 0.25, (int(n / 2), 4))\n",
    "# particles2 = np.random.normal(-0.75, 0.25, (int(n / 2), 4))\n",
    "# particles2[:, 0] += 0.1\n",
    "# particles = np.vstack((particles1, particles2))\n",
    "\n",
    "# particles = np.random.random((100, 4)) * 2 - 1\n",
    "\n",
    "particles[:, 2:] = 0\n",
    "\n",
    "# update acceleration block. construct the quadtree for force modeling \n",
    "root = leaf(bbox=np.array([[-L/2, -L/2], [L/2, L/2]]))\n",
    "# which we then can immediately turn into a tree \n",
    "for p in particles[:, 0:2]: \n",
    "    root = assignParticle(p, root)\n",
    "\n",
    "\n",
    "    \n",
    "for t, theta in zip(range(len(thetas)), thetas):\n",
    "    fig, ax =plt.subplots(1, 1, figsize=(6, 6))\n",
    "    ax.set_facecolor(\"black\")\n",
    "\n",
    "    # plt.scatter(particles[:, 0], particles[:, 1], s= 0.1)\n",
    "    #plt.scatter(particles_list[-1][:, 0], particles_list[-1][:, 1], s=0.1)\n",
    "    plt.xlim(-0.6, 0.6)\n",
    "    plt.ylim(-0.6, 0.6)\n",
    "\n",
    "    drawTree(ax, root)\n",
    "\n",
    "    f_multipole(particles[0, 0:2], root, root.length[0], theta=theta) \n",
    "    plt.plot(particles[0, 0], particles[0, 1], marker='*', c='white')\n",
    "    ax.annotate(r'$\\theta=${:.2f}'.format(theta), xy=(-0.59, -0.59), c='white')\n",
    "    plt.savefig('./thetas/frame_{}.png'.format( t), bbox_inches='tight', pad_inches = 0, dpi=300)\n",
    "    plt.close()\n",
    "\n",
    "# tpoints, particles_list, trees = leapfrog(particles.copy(), t_start=0, t_end=10, N=1, L=1, theta=0.5,\n",
    "#                                          epsilon=1e-3, m_scale=1e3, multi=False)\n"
   ]
  },
  {
   "cell_type": "code",
   "execution_count": 82,
   "id": "8db35b15",
   "metadata": {},
   "outputs": [],
   "source": [
    "thetas = np.linspace(0, 2, 41)\n",
    "thetas = np.hstack((thetas[::-1], thetas))"
   ]
  },
  {
   "cell_type": "code",
   "execution_count": 81,
   "id": "e107dab0",
   "metadata": {},
   "outputs": [
    {
     "data": {
      "text/plain": [
       "82"
      ]
     },
     "execution_count": 81,
     "metadata": {},
     "output_type": "execute_result"
    }
   ],
   "source": [
    "thetas"
   ]
  },
  {
   "cell_type": "code",
   "execution_count": 89,
   "id": "def2dfc8",
   "metadata": {},
   "outputs": [
    {
     "name": "stdout",
     "output_type": "stream",
     "text": [
      "[0.00] Multiprocess concluded ...\n",
      "[0.00] Creating video ...\n",
      "Moviepy - Building video test.mp4.\n",
      "Moviepy - Writing video test.mp4\n",
      "\n"
     ]
    },
    {
     "name": "stderr",
     "output_type": "stream",
     "text": [
      "                                                                                                                                                                                                         \r"
     ]
    },
    {
     "name": "stdout",
     "output_type": "stream",
     "text": [
      "Moviepy - Done !\n",
      "Moviepy - video ready test.mp4\n"
     ]
    }
   ],
   "source": [
    "\n",
    "tstart = time.time() \n",
    "\n",
    "# print('[{:.2f}] Creating plot directory ...'.format(time.time() - tstart))\n",
    "# plot_dir = '{}/{}'.format(os.path.abspath(os.getcwd()), 'L{}n{}'.format(trees[0].length[0], n))\n",
    "# if not os.path.isdir(plot_dir):\n",
    "#     os.mkdir(os.path.join(plot_dir))\n",
    "\n",
    "# print('[{:.2f}] Initializing multiprocessing ...'.format(time.time() - tstart))\n",
    "# n_cpu = mp.cpu_count()\n",
    "# pool = mp.Pool(processes=n_cpu)\n",
    "\n",
    "# mp_trees = np.array_split(trees, n_cpu)\n",
    "# mp_particles = np.array_split(particles_list, n_cpu)\n",
    "# mp_tpoints = np.array_split(np.arange(len(tpoints)), n_cpu)\n",
    "    \n",
    "# print('[{:.2f}] Creating plots ...'.format(time.time() - tstart))\n",
    "# for i in range(n_cpu):\n",
    "#     pool.apply_async(renderParticles, args=(mp_particles[i], mp_trees[i], mp_tpoints[i], plot_dir, 300))\n",
    "\n",
    "# pool.close()\n",
    "# pool.join()\n",
    "print('[{:.2f}] Multiprocess concluded ...'.format(time.time() - tstart))\n",
    "\n",
    "\n",
    "print('[{:.2f}] Creating video ...'.format(time.time() - tstart))\n",
    "\n",
    "plot_dir = './thetas/'\n",
    "fps=2 #number of frames per second\n",
    "image_files = natsorted([os.path.join(plot_dir,img) for img in os.listdir(plot_dir) if img.endswith(\".png\")], reverse=False)\n",
    "clip = moviepy.video.io.ImageSequenceClip.ImageSequenceClip(image_files, fps=fps)\n",
    "clip.write_videofile('test.mp4')\n",
    "\n",
    "# print('[{:.2f}] Video created ...'.format(time.time() - tstart))\n",
    "\n",
    "# _ = [os.remove(image_file) for image_file in image_files]\n",
    "# os.rmdir(plot_dir)\n",
    "# print('[{:.2f}] Directory cleaned ...'.format(time.time() - tstart))\n"
   ]
  },
  {
   "cell_type": "code",
   "execution_count": null,
   "id": "a18deeee",
   "metadata": {},
   "outputs": [],
   "source": [
    "with open('./data/sim.pkl', 'wb') as f:  # open a text file\n",
    "    pkl.dump({'tpoints': tpoints, 'particles_list': particles_list, 'trees': trees}, f) # serialize the list\n",
    "f.close()"
   ]
  },
  {
   "cell_type": "code",
   "execution_count": null,
   "id": "2325737d",
   "metadata": {},
   "outputs": [],
   "source": [
    "with open('./data/sim.pkl', 'rb') as f:\n",
    "    sim_dict = pkl.load(f)\n",
    "    \n",
    "tpoints = sim_dict['tpoints']\n",
    "particles_list = sim_dict['particles_list']\n",
    "trees = sim_dict['trees']\n",
    "\n",
    "n = particles_list[0].shape[0]"
   ]
  },
  {
   "cell_type": "code",
   "execution_count": null,
   "id": "ad3cc788",
   "metadata": {},
   "outputs": [],
   "source": []
  },
  {
   "cell_type": "code",
   "execution_count": null,
   "id": "bf71cb66",
   "metadata": {},
   "outputs": [],
   "source": []
  }
 ],
 "metadata": {
  "kernelspec": {
   "display_name": "Python 3 (ipykernel)",
   "language": "python",
   "name": "python3"
  },
  "language_info": {
   "codemirror_mode": {
    "name": "ipython",
    "version": 3
   },
   "file_extension": ".py",
   "mimetype": "text/x-python",
   "name": "python",
   "nbconvert_exporter": "python",
   "pygments_lexer": "ipython3",
   "version": "3.9.13"
  }
 },
 "nbformat": 4,
 "nbformat_minor": 5
}
