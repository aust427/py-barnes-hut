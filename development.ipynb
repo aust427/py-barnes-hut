{
 "cells": [
  {
   "cell_type": "code",
   "execution_count": 1,
   "id": "5fbf1134",
   "metadata": {},
   "outputs": [],
   "source": [
    "import numpy as np\n",
    "import matplotlib.pyplot as plt"
   ]
  },
  {
   "cell_type": "code",
   "execution_count": 2,
   "id": "9e76c2c1",
   "metadata": {},
   "outputs": [],
   "source": [
    "class QuadTree():\n",
    "    def __init__(self):\n",
    "        self.nw = None\n",
    "        self.sw = None\n",
    "        self.ne = None\n",
    "        self.se = None"
   ]
  },
  {
   "cell_type": "code",
   "execution_count": 3,
   "id": "9619fbd8",
   "metadata": {},
   "outputs": [],
   "source": [
    "root = QuadTree()"
   ]
  },
  {
   "cell_type": "code",
   "execution_count": 5,
   "id": "7f29503e",
   "metadata": {},
   "outputs": [],
   "source": [
    "root.nw = QuadTree()"
   ]
  },
  {
   "cell_type": "code",
   "execution_count": 7,
   "id": "015d9939",
   "metadata": {},
   "outputs": [
    {
     "data": {
      "text/plain": [
       "<__main__.QuadTree at 0x115acfe50>"
      ]
     },
     "execution_count": 7,
     "metadata": {},
     "output_type": "execute_result"
    }
   ],
   "source": [
    "root.nw"
   ]
  },
  {
   "cell_type": "code",
   "execution_count": null,
   "id": "eddd51db",
   "metadata": {},
   "outputs": [],
   "source": []
  }
 ],
 "metadata": {
  "kernelspec": {
   "display_name": "Python 3 (ipykernel)",
   "language": "python",
   "name": "python3"
  },
  "language_info": {
   "codemirror_mode": {
    "name": "ipython",
    "version": 3
   },
   "file_extension": ".py",
   "mimetype": "text/x-python",
   "name": "python",
   "nbconvert_exporter": "python",
   "pygments_lexer": "ipython3",
   "version": "3.9.13"
  }
 },
 "nbformat": 4,
 "nbformat_minor": 5
}
