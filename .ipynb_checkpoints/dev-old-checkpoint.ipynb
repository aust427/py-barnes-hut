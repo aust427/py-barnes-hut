{
 "cells": [
  {
   "cell_type": "code",
   "execution_count": 1,
   "id": "d9a0ead9",
   "metadata": {},
   "outputs": [],
   "source": [
    "%matplotlib notebook"
   ]
  },
  {
   "cell_type": "code",
   "execution_count": 2,
   "id": "f29e107f",
   "metadata": {},
   "outputs": [],
   "source": [
    "import numpy as np\n",
    "import matplotlib.pyplot as plt\n",
    "import sys\n",
    "import os \n",
    "from tqdm import tqdm\n",
    "\n",
    "import multiprocessing as mp\n",
    "\n",
    "import time \n",
    "from natsort import natsorted\n",
    "import moviepy.video.io.ImageSequenceClip\n"
   ]
  },
  {
   "cell_type": "code",
   "execution_count": 6,
   "id": "8d4093c5",
   "metadata": {},
   "outputs": [],
   "source": [
    "from simulation import *\n",
    "from visualizer import renderParticles, drawTree, plotter"
   ]
  },
  {
   "cell_type": "code",
   "execution_count": 4,
   "id": "7e62b819",
   "metadata": {},
   "outputs": [
    {
     "data": {
      "text/plain": [
       "<matplotlib.pyplot._IoffContext at 0x1095366d0>"
      ]
     },
     "execution_count": 4,
     "metadata": {},
     "output_type": "execute_result"
    }
   ],
   "source": [
    "plt.ioff()"
   ]
  },
  {
   "cell_type": "code",
   "execution_count": 8,
   "id": "315819ec",
   "metadata": {},
   "outputs": [
    {
     "name": "stderr",
     "output_type": "stream",
     "text": [
      "100%|████████████████████████████████████████████████████████████████████████████████████████████████████████████████████████████████████████████████████████████████| 1000/1000 [03:00<00:00,  5.53it/s]\n"
     ]
    }
   ],
   "source": [
    "n = 100\n",
    "# particles = np.random.random((n, 4)) * 2 - 1\n",
    "\n",
    "particles1 = np.random.normal(0.6, 0.1, (n, 4))\n",
    "particles2 = np.random.normal(-0.6, 0.1, (n, 4))\n",
    "\n",
    "particles = np.vstack((particles1, particles2))\n",
    "particles[:, 2:] = 0\n",
    "particles[:, 2:] = 0\n",
    "\n",
    "# FIG, AX = plt.subplots(1, 1, figsize=(6, 6))\n",
    "# AX.set_facecolor(\"black\")\n",
    "\n",
    "tpoints, particles_list, trees = leapfrog(particles.copy(), t_start=0, t_end=10, N=1e3, L=2, theta=0.5)\n",
    "# plt.scatter(particles[:, 0], particles[:, 1], c='white', s=1)\n",
    "\n",
    "# plotter(AX, trees[0], 'white', alpha=1, zorder=99)\n",
    "\n",
    "\n",
    "# plt.xlim(-1.9, 1.1)\n",
    "# plt.ylim(-2.05, 1.05)\n",
    "# plt.show()"
   ]
  },
  {
   "cell_type": "code",
   "execution_count": null,
   "id": "1bba840b",
   "metadata": {},
   "outputs": [],
   "source": []
  }
 ],
 "metadata": {
  "kernelspec": {
   "display_name": "Python 3 (ipykernel)",
   "language": "python",
   "name": "python3"
  },
  "language_info": {
   "codemirror_mode": {
    "name": "ipython",
    "version": 3
   },
   "file_extension": ".py",
   "mimetype": "text/x-python",
   "name": "python",
   "nbconvert_exporter": "python",
   "pygments_lexer": "ipython3",
   "version": "3.9.13"
  }
 },
 "nbformat": 4,
 "nbformat_minor": 5
}
