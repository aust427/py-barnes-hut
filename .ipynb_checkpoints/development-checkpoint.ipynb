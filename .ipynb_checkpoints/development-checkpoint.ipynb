{
 "cells": [
  {
   "cell_type": "code",
   "execution_count": null,
   "id": "0e1212bb",
   "metadata": {},
   "outputs": [],
   "source": [
    "%matplotlib notebook"
   ]
  },
  {
   "cell_type": "code",
   "execution_count": 1,
   "id": "02e18937",
   "metadata": {},
   "outputs": [],
   "source": [
    "import numpy as np\n",
    "import matplotlib.pyplot as plt\n",
    "import sys\n",
    "import os \n",
    "from tqdm import tqdm\n",
    "\n",
    "import multiprocessing as mp\n",
    "\n",
    "import time \n",
    "from natsort import natsorted\n",
    "import moviepy.video.io.ImageSequenceClip\n",
    "\n",
    "import copy \n",
    "\n",
    "import pickle as pkl"
   ]
  },
  {
   "cell_type": "code",
   "execution_count": 2,
   "id": "5e531b1f",
   "metadata": {},
   "outputs": [],
   "source": [
    "sys.setrecursionlimit(10000) "
   ]
  },
  {
   "cell_type": "code",
   "execution_count": 3,
   "id": "9416494a",
   "metadata": {},
   "outputs": [],
   "source": [
    "from simulation import leapfrog\n",
    "from visualizer import renderParticles, drawTree, plotter"
   ]
  },
  {
   "cell_type": "code",
   "execution_count": 4,
   "id": "97207844",
   "metadata": {},
   "outputs": [
    {
     "data": {
      "text/plain": [
       "<matplotlib.pyplot._IoffContext at 0x1171f1280>"
      ]
     },
     "execution_count": 4,
     "metadata": {},
     "output_type": "execute_result"
    }
   ],
   "source": [
    "plt.ioff()"
   ]
  },
  {
   "cell_type": "code",
   "execution_count": null,
   "id": "31892446",
   "metadata": {},
   "outputs": [],
   "source": []
  },
  {
   "cell_type": "code",
   "execution_count": 5,
   "id": "0fd4c91f",
   "metadata": {},
   "outputs": [
    {
     "data": {
      "image/png": "[encoded data removed]",
      "text/plain": [
       "<Figure size 640x480 with 1 Axes>"
      ]
     },
     "metadata": {},
     "output_type": "display_data"
    }
   ],
   "source": [
    "\n",
    "n = 1000\n",
    "# particles = np.random.random((2*200, 4)) * 5 - 2.5\n",
    "# particles1 = np.random.normal(0.65, 0.15, (2*300, 4))\n",
    "# particles2 = np.random.normal(-0.5, 0.15, (2*300, 4))\n",
    "# particles2[:, 0] += 0.1\n",
    "# particles = np.vstack((particles, particles1, particles2))\n",
    "\n",
    "particles = np.random.random((100, 4)) * 2 - 1\n",
    "\n",
    "particles[:, 2:] = 0\n",
    "plt.scatter(particles[:, 0], particles[:, 1], s= 0.1)\n",
    "#plt.scatter(particles_list[-1][:, 0], particles_list[-1][:, 1], s=0.1)\n",
    "plt.xlim(-2.5, 2.5)\n",
    "plt.ylim(-2.5, 2.5)\n",
    "plt.show()"
   ]
  },
  {
   "cell_type": "code",
   "execution_count": 6,
   "id": "49d23c80",
   "metadata": {
    "scrolled": false
   },
   "outputs": [
    {
     "name": "stderr",
     "output_type": "stream",
     "text": [
      "100%|██████████████████████████████████████████████████████████████████████████████████████████████████████████████████████████████████████████████████████████████████| 100/100 [00:10<00:00,  9.13it/s]\n"
     ]
    }
   ],
   "source": [
    "\n",
    "tpoints, particles_list, trees = leapfrog(particles.copy(), t_start=0, t_end=10, N=1e2, L=5, theta=0.5,\n",
    "                                         epsilon=1e-3, m_scale=1e3, multi=False)\n"
   ]
  },
  {
   "cell_type": "code",
   "execution_count": 7,
   "id": "9b93dc25",
   "metadata": {},
   "outputs": [
    {
     "name": "stdout",
     "output_type": "stream",
     "text": [
      "[0.00] Creating plot directory ...\n",
      "[0.00] Initializing multiprocessing ...\n",
      "[0.06] Creating plots ...\n",
      "[11.70] Multiprocess concluded ...\n",
      "[11.70] Creating video ...\n",
      "Moviepy - Building video test.mp4.\n",
      "Moviepy - Writing video test.mp4\n",
      "\n"
     ]
    },
    {
     "name": "stderr",
     "output_type": "stream",
     "text": [
      "                                                                                                                                                                                                         \r"
     ]
    },
    {
     "name": "stdout",
     "output_type": "stream",
     "text": [
      "Moviepy - Done !\n",
      "Moviepy - video ready test.mp4\n",
      "[18.98] Video created ...\n",
      "[18.99] Directory cleaned ...\n"
     ]
    }
   ],
   "source": [
    "\n",
    "tstart = time.time() \n",
    "\n",
    "print('[{:.2f}] Creating plot directory ...'.format(time.time() - tstart))\n",
    "plot_dir = '{}/{}'.format(os.path.abspath(os.getcwd()), 'L{}n{}'.format(trees[0].length[0], n))\n",
    "if not os.path.isdir(plot_dir):\n",
    "    os.mkdir(os.path.join(plot_dir))\n",
    "\n",
    "print('[{:.2f}] Initializing multiprocessing ...'.format(time.time() - tstart))\n",
    "n_cpu = mp.cpu_count()\n",
    "pool = mp.Pool(processes=n_cpu)\n",
    "\n",
    "mp_trees = np.array_split(trees, n_cpu)\n",
    "mp_particles = np.array_split(particles_list, n_cpu)\n",
    "mp_tpoints = np.array_split(np.arange(len(tpoints)), n_cpu)\n",
    "    \n",
    "print('[{:.2f}] Creating plots ...'.format(time.time() - tstart))\n",
    "for i in range(n_cpu):\n",
    "    pool.apply_async(renderParticles, args=(mp_particles[i], mp_trees[i], mp_tpoints[i], plot_dir, 300))\n",
    "\n",
    "pool.close()\n",
    "pool.join()\n",
    "print('[{:.2f}] Multiprocess concluded ...'.format(time.time() - tstart))\n",
    "\n",
    "\n",
    "print('[{:.2f}] Creating video ...'.format(time.time() - tstart))\n",
    "\n",
    "fps=60 #number of frames per second\n",
    "image_files = natsorted([os.path.join(plot_dir,img) for img in os.listdir(plot_dir) if img.endswith(\".png\")], reverse=False)\n",
    "clip = moviepy.video.io.ImageSequenceClip.ImageSequenceClip(image_files, fps=fps)\n",
    "clip.write_videofile('test.mp4')\n",
    "\n",
    "print('[{:.2f}] Video created ...'.format(time.time() - tstart))\n",
    "\n",
    "_ = [os.remove(image_file) for image_file in image_files]\n",
    "os.rmdir(plot_dir)\n",
    "print('[{:.2f}] Directory cleaned ...'.format(time.time() - tstart))\n"
   ]
  },
  {
   "cell_type": "code",
   "execution_count": null,
   "id": "6bf66fa5",
   "metadata": {},
   "outputs": [],
   "source": [
    "with open('./data/sim.pkl', 'wb') as f:  # open a text file\n",
    "    pkl.dump({'tpoints': tpoints, 'particles_list': particles_list, 'trees': trees}, f) # serialize the list\n",
    "f.close()"
   ]
  },
  {
   "cell_type": "code",
   "execution_count": null,
   "id": "ba5449bc",
   "metadata": {},
   "outputs": [],
   "source": [
    "with open('./data/sim.pkl', 'rb') as f:\n",
    "    sim_dict = pkl.load(f)\n",
    "    \n",
    "tpoints = sim_dict['tpoints']\n",
    "particles_list = sim_dict['particles_list']\n",
    "trees = sim_dict['trees']\n",
    "\n",
    "n = particles_list[0].shape[0]"
   ]
  },
  {
   "cell_type": "code",
   "execution_count": null,
   "id": "049e80be",
   "metadata": {},
   "outputs": [],
   "source": []
  },
  {
   "cell_type": "code",
   "execution_count": null,
   "id": "3901c54e",
   "metadata": {},
   "outputs": [],
   "source": []
  }
 ],
 "metadata": {
  "kernelspec": {
   "display_name": "Python 3 (ipykernel)",
   "language": "python",
   "name": "python3"
  },
  "language_info": {
   "codemirror_mode": {
    "name": "ipython",
    "version": 3
   },
   "file_extension": ".py",
   "mimetype": "text/x-python",
   "name": "python",
   "nbconvert_exporter": "python",
   "pygments_lexer": "ipython3",
   "version": "3.9.13"
  }
 },
 "nbformat": 4,
 "nbformat_minor": 5
}
