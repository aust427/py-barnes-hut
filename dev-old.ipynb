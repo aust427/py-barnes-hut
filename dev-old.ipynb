{
 "cells": [
  {
   "cell_type": "code",
   "execution_count": 1,
   "id": "36778544",
   "metadata": {},
   "outputs": [],
   "source": [
    "%matplotlib notebook"
   ]
  },
  {
   "cell_type": "code",
   "execution_count": 2,
   "id": "acb17e44",
   "metadata": {},
   "outputs": [],
   "source": [
    "import numpy as np\n",
    "import matplotlib.pyplot as plt\n",
    "import sys\n",
    "import os \n",
    "from tqdm import tqdm\n",
    "\n",
    "import multiprocessing as mp\n",
    "\n",
    "import time \n",
    "from natsort import natsorted\n",
    "import moviepy.video.io.ImageSequenceClip\n"
   ]
  },
  {
   "cell_type": "code",
   "execution_count": 6,
   "id": "ff335953",
   "metadata": {},
   "outputs": [],
   "source": [
    "from simulation import *\n",
    "from visualizer import renderParticles, drawTree, plotter"
   ]
  },
  {
   "cell_type": "code",
   "execution_count": 4,
   "id": "bfc132f6",
   "metadata": {},
   "outputs": [
    {
     "data": {
      "text/plain": [
       "<matplotlib.pyplot._IoffContext at 0x1095366d0>"
      ]
     },
     "execution_count": 4,
     "metadata": {},
     "output_type": "execute_result"
    }
   ],
   "source": [
    "plt.ioff()"
   ]
  },
  {
   "cell_type": "code",
   "execution_count": 8,
   "id": "f5316868",
   "metadata": {},
   "outputs": [
    {
     "name": "stderr",
     "output_type": "stream",
     "text": [
      "100%|████████████████████████████████████████████████████████████████████████████████████████████████████████████████████████████████████████████████████████████████| 1000/1000 [03:00<00:00,  5.53it/s]\n"
     ]
    }
   ],
   "source": [
    "n = 100\n",
    "# particles = np.random.random((n, 4)) * 2 - 1\n",
    "\n",
    "particles1 = np.random.normal(0.6, 0.1, (n, 4))\n",
    "particles2 = np.random.normal(-0.6, 0.1, (n, 4))\n",
    "\n",
    "particles = np.vstack((particles1, particles2))\n",
    "particles[:, 2:] = 0\n",
    "particles[:, 2:] = 0\n",
    "\n",
    "# FIG, AX = plt.subplots(1, 1, figsize=(6, 6))\n",
    "# AX.set_facecolor(\"black\")\n",
    "\n",
    "tpoints, particles_list, trees = leapfrog(particles.copy(), t_start=0, t_end=10, N=1e3, L=2, theta=0.5)\n",
    "# plt.scatter(particles[:, 0], particles[:, 1], c='white', s=1)\n",
    "\n",
    "# plotter(AX, trees[0], 'white', alpha=1, zorder=99)\n",
    "\n",
    "\n",
    "# plt.xlim(-1.9, 1.1)\n",
    "# plt.ylim(-2.05, 1.05)\n",
    "# plt.show()"
   ]
  },
  {
   "cell_type": "code",
   "execution_count": 10,
   "id": "4d937e6e",
   "metadata": {},
   "outputs": [
    {
     "name": "stdout",
     "output_type": "stream",
     "text": [
      "[0.00] Creating plot directory ...\n",
      "[0.00] Initializing multiprocessing ...\n",
      "[0.07] Creating plots ...\n",
      "[98.67] Multiprocess concluded ...\n",
      "[98.67] Creating video ...\n",
      "Moviepy - Building video test.mp4.\n",
      "Moviepy - Writing video test.mp4\n",
      "\n"
     ]
    },
    {
     "name": "stderr",
     "output_type": "stream",
     "text": [
      "                                                                                                                                                                                                         \r"
     ]
    },
    {
     "name": "stdout",
     "output_type": "stream",
     "text": [
      "Moviepy - Done !\n",
      "Moviepy - video ready test.mp4\n",
      "[108.44] Video created ...\n",
      "[108.48] Directory cleaned ...\n"
     ]
    }
   ],
   "source": [
    "\n",
    "tstart = time.time() \n",
    "\n",
    "print('[{:.2f}] Creating plot directory ...'.format(time.time() - tstart))\n",
    "plot_dir = '{}/{}'.format(os.path.abspath(os.getcwd()), 'L{}n{}'.format(trees[0].length, n))\n",
    "if not os.path.isdir(plot_dir):\n",
    "    os.mkdir(os.path.join(plot_dir))\n",
    "\n",
    "print('[{:.2f}] Initializing multiprocessing ...'.format(time.time() - tstart))\n",
    "n_cpu = mp.cpu_count()\n",
    "pool = mp.Pool(processes=n_cpu)\n",
    "\n",
    "mp_trees = np.array_split(trees, n_cpu)\n",
    "mp_particles = np.array_split(particles_list, n_cpu)\n",
    "mp_tpoints = np.array_split(np.arange(len(tpoints)), n_cpu)\n",
    "    \n",
    "print('[{:.2f}] Creating plots ...'.format(time.time() - tstart))\n",
    "for i in range(n_cpu):\n",
    "    pool.apply_async(renderParticles, args=(mp_particles[i], mp_trees[i], mp_tpoints[i], plot_dir))\n",
    "\n",
    "pool.close()\n",
    "pool.join()\n",
    "print('[{:.2f}] Multiprocess concluded ...'.format(time.time() - tstart))\n",
    "\n",
    "\n",
    "print('[{:.2f}] Creating video ...'.format(time.time() - tstart))\n",
    "\n",
    "fps=30 #number of frames per second\n",
    "image_files = natsorted([os.path.join(plot_dir,img) for img in os.listdir(plot_dir) if img.endswith(\".png\")], reverse=False)\n",
    "clip = moviepy.video.io.ImageSequenceClip.ImageSequenceClip(image_files, fps=fps)\n",
    "clip.write_videofile('test.mp4')\n",
    "\n",
    "print('[{:.2f}] Video created ...'.format(time.time() - tstart))\n",
    "\n",
    "_ = [os.remove(image_file) for image_file in image_files]\n",
    "os.rmdir(plot_dir)\n",
    "print('[{:.2f}] Directory cleaned ...'.format(time.time() - tstart))\n"
   ]
  },
  {
   "cell_type": "code",
   "execution_count": null,
   "id": "56967eb2",
   "metadata": {},
   "outputs": [],
   "source": []
  }
 ],
 "metadata": {
  "kernelspec": {
   "display_name": "Python 3 (ipykernel)",
   "language": "python",
   "name": "python3"
  },
  "language_info": {
   "codemirror_mode": {
    "name": "ipython",
    "version": 3
   },
   "file_extension": ".py",
   "mimetype": "text/x-python",
   "name": "python",
   "nbconvert_exporter": "python",
   "pygments_lexer": "ipython3",
   "version": "3.9.13"
  }
 },
 "nbformat": 4,
 "nbformat_minor": 5
}
