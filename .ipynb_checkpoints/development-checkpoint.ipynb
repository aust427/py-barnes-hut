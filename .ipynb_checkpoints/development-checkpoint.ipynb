{
 "cells": [
  {
   "cell_type": "code",
   "execution_count": 1,
   "id": "0e1212bb",
   "metadata": {},
   "outputs": [],
   "source": [
    "import numpy as np\n",
    "import matplotlib.pyplot as plt"
   ]
  },
  {
   "cell_type": "code",
   "execution_count": 2,
   "id": "f617c369",
   "metadata": {},
   "outputs": [],
   "source": [
    "class leaf():\n",
    "    def __init__(self, bbox=np.array([[-1, 1],[-1, 1]]), depth=1):\n",
    "        # if the leaf has a particle ... \n",
    "        self.particle = None \n",
    "        # center position of quadrant \n",
    "        self.center = np.array([bbox[0].sum() / 2, bbox[1].sum() / 2])\n",
    "        # length of bounding box, same for x- and y- axes \n",
    "        self.length = bbox[0, 1] - bbox[0, 0]\n",
    "        self.depth = depth \n",
    "\n",
    "        \n",
    "class QuadTree():\n",
    "    # tree constructor .. \n",
    "    def __init__(self, oleaf=leaf()):\n",
    "        # inherit from the original leaf node ... \n",
    "        self.center = oleaf.center\n",
    "        self.length = oleaf.length\n",
    "        self.depth = oleaf.depth\n",
    "        \n",
    "        # initialize leaf nodes ... \n",
    "        self.ll = leaf(depth = self.depth + 1, bbox=np.array([[oleaf.center[0] - oleaf.length / 2, oleaf.center[0]], \n",
    "                                 [oleaf.center[1] - oleaf.length / 2, oleaf.center[1]]]),)\n",
    "        self.ul = leaf(depth = self.depth + 1, bbox=np.array([[oleaf.center[0] - oleaf.length / 2, oleaf.center[0]], \n",
    "                                 [oleaf.center[1], oleaf.center[1] + oleaf.length / 2]]))\n",
    "        self.ur = leaf(depth = self.depth + 1, bbox=np.array([[oleaf.center[0], oleaf.center[0] + oleaf.length / 2], \n",
    "                                 [oleaf.center[1], oleaf.center[1] + oleaf.length / 2]]))\n",
    "        self.lr = leaf(depth = self.depth + 1, bbox=np.array([[oleaf.center[0], oleaf.center[0] + oleaf.length / 2], \n",
    "                                 [oleaf.center[1] - oleaf.length / 2, oleaf.center[1]]]))\n",
    "                \n"
   ]
  },
  {
   "cell_type": "code",
   "execution_count": 49,
   "id": "6da7d6ec",
   "metadata": {},
   "outputs": [],
   "source": [
    "def plotter(node):\n",
    "    plt.plot(\n",
    "    [node.center[0] + node.length / 2, node.center[0] - node.length / 2, node.center[0] - node.length / 2, \n",
    "     node.center[0] + node.length / 2, node.center[0] + node.length / 2],\n",
    "    [node.center[1] + node.length / 2, node.center[1] + node.length / 2, node.center[1] - node.length / 2, \n",
    "     node.center[1] - node.length / 2, node.center[1] + node.length / 2], \n",
    "    alpha=0.1, c='black')\n",
    "    \n",
    "    return 0 \n",
    "def drawTree(node): \n",
    "    if isinstance(node, leaf):\n",
    "        if node.particle is not None: \n",
    "            plotter(node)\n",
    "            return 0 \n",
    "    else: \n",
    "        plotter(node)\n",
    "        _ = [drawTree(n) for n in [node.ul, node.ur, node.ll, node.lr]]\n"
   ]
  },
  {
   "cell_type": "code",
   "execution_count": 48,
   "id": "da8a5e0d",
   "metadata": {},
   "outputs": [
    {
     "data": {
      "text/plain": [
       "True"
      ]
     },
     "execution_count": 48,
     "metadata": {},
     "output_type": "execute_result"
    }
   ],
   "source": [
    "isinstance(root, QuadTree)"
   ]
  },
  {
   "cell_type": "code",
   "execution_count": 41,
   "id": "024d765c",
   "metadata": {},
   "outputs": [],
   "source": [
    "# we start with a simple leaf (root) \n",
    "root = leaf()\n",
    "\n",
    "# which we then can immediately turn into a tree \n",
    "root = QuadTree(root)\n",
    "\n",
    "fig = plt.Figure() \n",
    "\n",
    "# root.ll = QuadTree(root.ll)\n",
    "# root.ur = QuadTree(root.ur)\n",
    "# root.ur.ur = QuadTree(root.ur.ur)\n",
    "# root.ur.ll = QuadTree(root.ur.ll)\n",
    "# root.ur.ll.ll = QuadTree(root.ur.ll.ll)\n",
    "\n",
    "drawTree(root)\n"
   ]
  },
  {
   "cell_type": "code",
   "execution_count": null,
   "id": "e0f8c37e",
   "metadata": {},
   "outputs": [],
   "source": [
    "leaf"
   ]
  },
  {
   "cell_type": "code",
   "execution_count": 32,
   "id": "74a9f96e",
   "metadata": {},
   "outputs": [],
   "source": [
    "def quadAssign(p, node): \n",
    "    theta = np.arctan2(p[1] - node.center[1], p[0] - node.center[0]) * 180 / np.pi\n",
    "    if theta < 90 and theta > 0: \n",
    "        node.ur = assignParticle(p, node.ur)\n",
    "    elif theta < 180 and theta >= 90: \n",
    "        node.ul = assignParticle(p, node.ul)\n",
    "    elif theta < 0 and theta >= -90:\n",
    "        node.lr = assignParticle(p, node.lr)\n",
    "    else: # theta < 360 and theta >= 270 \n",
    "        node.ll = assignParticle(p, node.ll)\n",
    "    return node\n",
    "    \n",
    "        \n",
    "def assignParticle(p, node):\n",
    "    # if a leaf has no particle, assign particle to leaf \n",
    "    if isinstance(node, leaf) and node.particle is None:\n",
    "        node.particle = p \n",
    "    # if a leaf has a particle, make it a tree and re-assign particles\n",
    "    elif isinstance(node, leaf) and node.particle is not None: \n",
    "        p_old = node.particle \n",
    "        node = QuadTree(node)\n",
    "        node = assignParticle(p, node)  \n",
    "        node = assignParticle(p_old, node)\n",
    "    # if tree, find out where in the tree the particle should live \n",
    "    else: \n",
    "        node = quadAssign(p, node)\n",
    "        \n",
    "    return node\n",
    "    \n"
   ]
  },
  {
   "cell_type": "code",
   "execution_count": 50,
   "id": "27bb4c94",
   "metadata": {},
   "outputs": [
    {
     "data": {
      "text/plain": [
       "(-1.2, 1.2)"
      ]
     },
     "execution_count": 50,
     "metadata": {},
     "output_type": "execute_result"
    },
    {
     "data": {
      "image/png": "[encoded data removed]",
      "text/plain": [
       "<Figure size 700x700 with 1 Axes>"
      ]
     },
     "metadata": {},
     "output_type": "display_data"
    }
   ],
   "source": [
    "# random particles originally from (0, 1), scaled to (0, 2), shifted to (-1, 1)\n",
    "particles = np.random.random((100, 2))  * 2 - 1\n",
    "\n",
    "# we start with a simple leaf (root) \n",
    "root = leaf()\n",
    "# which we then can immediately turn into a tree \n",
    "\n",
    "for p in particles: \n",
    "    root = assignParticle(p, root)\n",
    "    \n",
    "fig, ax = plt.subplots(figsize=(7, 7))\n",
    "drawTree(root)\n",
    "plt.scatter(particles[:, 0], particles[:, 1], s = 1)\n",
    "\n",
    "plt.xlim(-1.2, 1.2)\n",
    "plt.ylim(-1.2, 1.2)\n"
   ]
  }
 ],
 "metadata": {
  "kernelspec": {
   "display_name": "Python 3 (ipykernel)",
   "language": "python",
   "name": "python3"
  },
  "language_info": {
   "codemirror_mode": {
    "name": "ipython",
    "version": 3
   },
   "file_extension": ".py",
   "mimetype": "text/x-python",
   "name": "python",
   "nbconvert_exporter": "python",
   "pygments_lexer": "ipython3",
   "version": "3.9.13"
  }
 },
 "nbformat": 4,
 "nbformat_minor": 5
}
