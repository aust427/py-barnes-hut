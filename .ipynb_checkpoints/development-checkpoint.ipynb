{
 "cells": [
  {
   "cell_type": "code",
   "execution_count": 1,
   "id": "8cb41e0a",
   "metadata": {},
   "outputs": [],
   "source": [
    "import numpy as np\n",
    "import matplotlib.pyplot as plt"
   ]
  },
  {
   "cell_type": "code",
   "execution_count": 55,
   "id": "6d7d9c7d",
   "metadata": {},
   "outputs": [],
   "source": [
    "class leaf():\n",
    "    def __init__(self, l=0):\n",
    "        # how many particles there are in this leaf ... \n",
    "        self.np = 0 \n",
    "        # center position of quadrant \n",
    "        self.center = np.array([0, 0])\n",
    "        # length of bounding box, same for x- and y- axes \n",
    "        self.length = l \n",
    "        \n",
    "class QuadTree():\n",
    "    # tree constructor .. \n",
    "    def __init__(self, bbox=np.array([[-0, 0],[-0, 0]])):\n",
    "        # have to write this to inherit from the leaf turned tree .. \n",
    "        self.center = np.array([bbox[0].sum() / 2, bbox[1].sum() / 2])\n",
    "        self.length = bbox[0, 1] - bbox[0, 0]\n",
    "        \n",
    "        self.nw = leaf(self.length / 2)\n",
    "        self.sw = leaf(self.length / 2)\n",
    "        self.ne = leaf(self.length / 2)\n",
    "        self.se = leaf(self.length / 2)\n",
    "        \n",
    "#     def print(self):\n",
    "#         print(self.length)\n",
    "        \n",
    "\n",
    "def create_root(bbox): \n",
    "    root = QuadTree()\n",
    "    root.center = np.array([bbox[0].sum() / 2, bbox[1].sum() / 2])\n",
    "    root.length = bbox[0, 1] - bbox[0, 0]\n",
    "    \n",
    "    return root "
   ]
  },
  {
   "cell_type": "code",
   "execution_count": 46,
   "id": "11748cac",
   "metadata": {},
   "outputs": [
    {
     "data": {
      "text/plain": [
       "1"
      ]
     },
     "execution_count": 46,
     "metadata": {},
     "output_type": "execute_result"
    }
   ],
   "source": [
    "f = leaf(l=1)\n",
    "f.length"
   ]
  },
  {
   "cell_type": "code",
   "execution_count": 54,
   "id": "b28f6c41",
   "metadata": {},
   "outputs": [
    {
     "ename": "TypeError",
     "evalue": "_print() missing 1 required positional argument: 'self'",
     "output_type": "error",
     "traceback": [
      "\u001b[0;31m---------------------------------------------------------------------------\u001b[0m",
      "\u001b[0;31mTypeError\u001b[0m                                 Traceback (most recent call last)",
      "Input \u001b[0;32mIn [54]\u001b[0m, in \u001b[0;36m<cell line: 1>\u001b[0;34m()\u001b[0m\n\u001b[0;32m----> 1\u001b[0m \u001b[43mQuadTree\u001b[49m\u001b[38;5;241;43m.\u001b[39;49m\u001b[43m_print\u001b[49m\u001b[43m(\u001b[49m\u001b[43m)\u001b[49m\n",
      "\u001b[0;31mTypeError\u001b[0m: _print() missing 1 required positional argument: 'self'"
     ]
    }
   ],
   "source": [
    "QuadTree._print()"
   ]
  },
  {
   "cell_type": "code",
   "execution_count": 42,
   "id": "a4ad7ca7",
   "metadata": {},
   "outputs": [
    {
     "data": {
      "text/plain": [
       "<__main__.QuadTree at 0x115cad070>"
      ]
     },
     "execution_count": 42,
     "metadata": {},
     "output_type": "execute_result"
    }
   ],
   "source": [
    "root"
   ]
  },
  {
   "cell_type": "code",
   "execution_count": null,
   "id": "4ca31d44",
   "metadata": {},
   "outputs": [],
   "source": []
  }
 ],
 "metadata": {
  "kernelspec": {
   "display_name": "Python 3 (ipykernel)",
   "language": "python",
   "name": "python3"
  },
  "language_info": {
   "codemirror_mode": {
    "name": "ipython",
    "version": 3
   },
   "file_extension": ".py",
   "mimetype": "text/x-python",
   "name": "python",
   "nbconvert_exporter": "python",
   "pygments_lexer": "ipython3",
   "version": "3.9.13"
  }
 },
 "nbformat": 4,
 "nbformat_minor": 5
}
