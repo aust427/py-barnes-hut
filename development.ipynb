{
 "cells": [
  {
   "cell_type": "code",
   "execution_count": 1,
   "id": "d5963552",
   "metadata": {},
   "outputs": [],
   "source": [
    "import numpy as np\n",
    "import matplotlib.pyplot as plt"
   ]
  },
  {
   "cell_type": "code",
   "execution_count": 160,
   "id": "d87ee506",
   "metadata": {},
   "outputs": [],
   "source": [
    "class leaf():\n",
    "    def __init__(self, bbox=np.array([[-1, 1],[-1, 1]]), depth=1):\n",
    "        # if the leaf has a particle ... \n",
    "        self.particle = True \n",
    "        # center position of quadrant \n",
    "        self.center = np.array([bbox[0].sum() / 2, bbox[1].sum() / 2])\n",
    "        # length of bounding box, same for x- and y- axes \n",
    "        self.length = bbox[0, 1] - bbox[0, 0]\n",
    "        self.depth = depth \n",
    "\n",
    "        \n",
    "class QuadTree():\n",
    "    # tree constructor .. \n",
    "    def __init__(self, oleaf=leaf()):\n",
    "        # inherit from the original leaf node ... \n",
    "        self.center = oleaf.center\n",
    "        self.length = oleaf.length\n",
    "        self.depth = oleaf.depth\n",
    "        \n",
    "        # initialize leaf nodes ... \n",
    "        self.ll = leaf(depth = self.depth + 1, bbox=np.array([[oleaf.center[0] - oleaf.length / 2, oleaf.center[0]], \n",
    "                                 [oleaf.center[1] - oleaf.length / 2, oleaf.center[1]]]),)\n",
    "        self.ul = leaf(depth = self.depth + 1, bbox=np.array([[oleaf.center[0] - oleaf.length / 2, oleaf.center[0]], \n",
    "                                 [oleaf.center[1], oleaf.center[1] + oleaf.length / 2]]))\n",
    "        self.ur = leaf(depth = self.depth + 1, bbox=np.array([[oleaf.center[0], oleaf.center[0] + oleaf.length / 2], \n",
    "                                 [oleaf.center[1], oleaf.center[1] + oleaf.length / 2]]))\n",
    "        self.lr = leaf(depth = self.depth + 1, bbox=np.array([[oleaf.center[0], oleaf.center[0] + oleaf.length / 2], \n",
    "                                 [oleaf.center[1] - oleaf.length / 2, oleaf.center[1]]]))\n",
    "                \n"
   ]
  },
  {
   "cell_type": "code",
   "execution_count": 210,
   "id": "12ba01c9",
   "metadata": {},
   "outputs": [],
   "source": [
    "def drawTree(node): \n",
    "    if isinstance(node, leaf):\n",
    "        plt.plot(\n",
    "            [node.center[0] + node.length / 2, node.center[0] - node.length / 2, node.center[0] - node.length / 2, \n",
    "             node.center[0] + node.length / 2, node.center[0] + node.length / 2],\n",
    "            [node.center[1] + node.length / 2, node.center[1] + node.length / 2, node.center[1] - node.length / 2, \n",
    "             node.center[1] - node.length / 2, node.center[1] + node.length / 2], \n",
    "            alpha=0.1, c='black')\n",
    "        return 0 \n",
    "    \n",
    "    else: \n",
    "        _ = [drawTree(o) for o in [node.ul, node.ur, node.ll, node.lr]]\n"
   ]
  },
  {
   "cell_type": "code",
   "execution_count": null,
   "id": "7d91d4a0",
   "metadata": {},
   "outputs": [],
   "source": []
  },
  {
   "cell_type": "code",
   "execution_count": 212,
   "id": "493932f0",
   "metadata": {},
   "outputs": [
    {
     "data": {
      "image/png": "[encoded data removed]",
      "text/plain": [
       "<Figure size 640x480 with 1 Axes>"
      ]
     },
     "metadata": {},
     "output_type": "display_data"
    }
   ],
   "source": [
    "root = leaf()\n",
    "\n",
    "root = QuadTree(root)\n",
    "\n",
    "fig = plt.Figure() \n",
    "\n",
    "root.ll = QuadTree(root.ll)\n",
    "root.ur = QuadTree(root.ur)\n",
    "root.ur.ur = QuadTree(root.ur.ur)\n",
    "root.ur.ll = QuadTree(root.ur.ll)\n",
    "root.ur.ll.ll = QuadTree(root.ur.ll.ll)\n",
    "\n",
    "drawTree(root)\n"
   ]
  },
  {
   "cell_type": "code",
   "execution_count": 131,
   "id": "fdf6a6b8",
   "metadata": {},
   "outputs": [
    {
     "data": {
      "text/plain": [
       "array([-0.5, -0.5])"
      ]
     },
     "execution_count": 131,
     "metadata": {},
     "output_type": "execute_result"
    }
   ],
   "source": [
    "root.ll.center"
   ]
  },
  {
   "cell_type": "code",
   "execution_count": 123,
   "id": "05792257",
   "metadata": {},
   "outputs": [
    {
     "ename": "IndentationError",
     "evalue": "expected an indented block (101856427.py, line 13)",
     "output_type": "error",
     "traceback": [
      "\u001b[0;36m  Input \u001b[0;32mIn [123]\u001b[0;36m\u001b[0m\n\u001b[0;31m    # repeat ad nasuem\u001b[0m\n\u001b[0m                       ^\u001b[0m\n\u001b[0;31mIndentationError\u001b[0m\u001b[0;31m:\u001b[0m expected an indented block\n"
     ]
    }
   ],
   "source": [
    "# we start with a simple leaf (root) \n",
    "root = leaf()\n",
    "# which we then can immediately turn into a tree \n",
    "\n",
    "root = QuadTree(root)\n",
    "\n",
    "# random particles originally from (0, 1), scaled to (0, 2), shifted to (-1, 1)\n",
    "particles = np.random.random((4, 2)) * 2 - 1\n",
    "\n",
    "for p in particles: \n",
    "    # figure out which quadrant the particle is suppposed to populate \n",
    "    # if n = 0, insert\n",
    "    # if n ! = 0, make a new branch, then recurrsively insert ... ? \n",
    "    # repeat ad nasuem "
   ]
  },
  {
   "cell_type": "code",
   "execution_count": 122,
   "id": "e7b2a62b",
   "metadata": {},
   "outputs": [
    {
     "data": {
      "text/plain": [
       "array([[ 0.06848283,  0.1704668 ],\n",
       "       [ 0.4726561 ,  0.75889435],\n",
       "       [-0.47409269,  0.78121478],\n",
       "       [-0.64746977,  0.83611306]])"
      ]
     },
     "execution_count": 122,
     "metadata": {},
     "output_type": "execute_result"
    }
   ],
   "source": [
    "np.random.random((4, 2)) * 2 - 1"
   ]
  },
  {
   "cell_type": "code",
   "execution_count": 87,
   "id": "9d5f77e9",
   "metadata": {},
   "outputs": [
    {
     "data": {
      "text/plain": [
       "0"
      ]
     },
     "execution_count": 87,
     "metadata": {},
     "output_type": "execute_result"
    }
   ],
   "source": [
    "bbox = np.array([[-2, 2],[-2, 2]])\n",
    "\n",
    "root = leaf(bbox)\n",
    "root"
   ]
  },
  {
   "cell_type": "code",
   "execution_count": 79,
   "id": "e5e7f1e8",
   "metadata": {},
   "outputs": [
    {
     "data": {
      "text/plain": [
       "__main__.leaf"
      ]
     },
     "execution_count": 79,
     "metadata": {},
     "output_type": "execute_result"
    }
   ],
   "source": [
    "leaf"
   ]
  },
  {
   "cell_type": "code",
   "execution_count": null,
   "id": "b385192c",
   "metadata": {},
   "outputs": [],
   "source": []
  }
 ],
 "metadata": {
  "kernelspec": {
   "display_name": "Python 3 (ipykernel)",
   "language": "python",
   "name": "python3"
  },
  "language_info": {
   "codemirror_mode": {
    "name": "ipython",
    "version": 3
   },
   "file_extension": ".py",
   "mimetype": "text/x-python",
   "name": "python",
   "nbconvert_exporter": "python",
   "pygments_lexer": "ipython3",
   "version": "3.9.13"
  }
 },
 "nbformat": 4,
 "nbformat_minor": 5
}
