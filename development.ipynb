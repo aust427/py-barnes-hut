{
 "cells": [
  {
   "cell_type": "code",
   "execution_count": 1,
   "id": "7a5663d9",
   "metadata": {},
   "outputs": [],
   "source": [
    "import numpy as np\n",
    "import matplotlib.pyplot as plt"
   ]
  },
  {
   "cell_type": "code",
   "execution_count": 81,
   "id": "6d7d5b13",
   "metadata": {},
   "outputs": [],
   "source": [
    "class leaf():\n",
    "    def __init__(self, bbox=np.array([[-1, 1],[-1, 1]])):\n",
    "        # how many particles there are in this leaf ... \n",
    "        self.np = 0 \n",
    "        # center position of quadrant \n",
    "        self.center = np.array([bbox[0].sum() / 2, bbox[1].sum() / 2])\n",
    "        # length of bounding box, same for x- and y- axes \n",
    "        self.length = bbox[0, 1] - bbox[0, 0]\n",
    "\n",
    "        \n",
    "class QuadTree():\n",
    "    # tree constructor .. \n",
    "    def __init__(self, o_leaf=leaf()):\n",
    "        # inherit from the original leaf node ... \n",
    "        self.center = o_leaf.center\n",
    "        self.length = o_leaf.length\n",
    "        \n",
    "        self.nw = leaf(self.length / 2)\n",
    "        self.sw = leaf(self.length / 2)\n",
    "        self.ne = leaf(self.length / 2)\n",
    "        self.se = leaf(self.length / 2)\n",
    "                \n"
   ]
  },
  {
   "cell_type": "code",
   "execution_count": 84,
   "id": "a4ee7bd1",
   "metadata": {},
   "outputs": [
    {
     "data": {
      "text/plain": [
       "2"
      ]
     },
     "execution_count": 84,
     "metadata": {},
     "output_type": "execute_result"
    }
   ],
   "source": [
    "f = leaf()\n"
   ]
  },
  {
   "cell_type": "code",
   "execution_count": 87,
   "id": "ba051088",
   "metadata": {},
   "outputs": [
    {
     "data": {
      "text/plain": [
       "0"
      ]
     },
     "execution_count": 87,
     "metadata": {},
     "output_type": "execute_result"
    }
   ],
   "source": [
    "bbox = np.array([[-2, 2],[-2, 2]])\n",
    "\n",
    "root = leaf(bbox)\n",
    "root.np"
   ]
  },
  {
   "cell_type": "code",
   "execution_count": 79,
   "id": "d116c82b",
   "metadata": {},
   "outputs": [
    {
     "data": {
      "text/plain": [
       "__main__.leaf"
      ]
     },
     "execution_count": 79,
     "metadata": {},
     "output_type": "execute_result"
    }
   ],
   "source": [
    "leaf"
   ]
  },
  {
   "cell_type": "code",
   "execution_count": null,
   "id": "c0297439",
   "metadata": {},
   "outputs": [],
   "source": []
  }
 ],
 "metadata": {
  "kernelspec": {
   "display_name": "Python 3 (ipykernel)",
   "language": "python",
   "name": "python3"
  },
  "language_info": {
   "codemirror_mode": {
    "name": "ipython",
    "version": 3
   },
   "file_extension": ".py",
   "mimetype": "text/x-python",
   "name": "python",
   "nbconvert_exporter": "python",
   "pygments_lexer": "ipython3",
   "version": "3.9.13"
  }
 },
 "nbformat": 4,
 "nbformat_minor": 5
}
